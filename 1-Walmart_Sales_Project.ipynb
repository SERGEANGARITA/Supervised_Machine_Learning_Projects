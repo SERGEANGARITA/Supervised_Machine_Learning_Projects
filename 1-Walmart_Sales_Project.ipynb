{
 "cells": [
  {
   "cell_type": "markdown",
   "metadata": {},
   "source": [
    "# Walmart Sales Project"
   ]
  },
  {
   "cell_type": "markdown",
   "metadata": {},
   "source": [
    "***Import Important Libraries***"
   ]
  },
  {
   "cell_type": "code",
   "execution_count": 276,
   "metadata": {},
   "outputs": [],
   "source": [
    "import pandas as pd\n",
    "import numpy as np\n",
    "\n",
    "\n",
    "from sklearn.linear_model import LinearRegression\n",
    "from sklearn.model_selection import train_test_split,cross_val_score, GridSearchCV\n",
    "from sklearn.pipeline import Pipeline\n",
    "from sklearn.impute import SimpleImputer\n",
    "from sklearn.preprocessing import  OneHotEncoder, StandardScaler, LabelEncoder\n",
    "from sklearn.compose import ColumnTransformer\n",
    "from sklearn.linear_model import Ridge,Lasso\n",
    "from sklearn.model_selection import cross_val_score, GridSearchCV\n",
    "from sklearn.metrics import r2_score,mean_absolute_error,mean_squared_error\n",
    "\n",
    "import seaborn as sns\n",
    "import matplotlib.pyplot as plt\n",
    "\n",
    "import statsmodels.api as sm"
   ]
  },
  {
   "cell_type": "markdown",
   "metadata": {},
   "source": [
    "***Import the dataset***\n"
   ]
  },
  {
   "cell_type": "code",
   "execution_count": 277,
   "metadata": {},
   "outputs": [
    {
     "name": "stdout",
     "output_type": "stream",
     "text": [
      "Loading dataset...\n",
      "...Done.\n"
     ]
    },
    {
     "data": {
      "text/html": [
       "<div>\n",
       "<style scoped>\n",
       "    .dataframe tbody tr th:only-of-type {\n",
       "        vertical-align: middle;\n",
       "    }\n",
       "\n",
       "    .dataframe tbody tr th {\n",
       "        vertical-align: top;\n",
       "    }\n",
       "\n",
       "    .dataframe thead th {\n",
       "        text-align: right;\n",
       "    }\n",
       "</style>\n",
       "<table border=\"1\" class=\"dataframe\">\n",
       "  <thead>\n",
       "    <tr style=\"text-align: right;\">\n",
       "      <th></th>\n",
       "      <th>Store</th>\n",
       "      <th>Date</th>\n",
       "      <th>Weekly_Sales</th>\n",
       "      <th>Holiday_Flag</th>\n",
       "      <th>Temperature</th>\n",
       "      <th>Fuel_Price</th>\n",
       "      <th>CPI</th>\n",
       "      <th>Unemployment</th>\n",
       "    </tr>\n",
       "  </thead>\n",
       "  <tbody>\n",
       "    <tr>\n",
       "      <th>0</th>\n",
       "      <td>6.0</td>\n",
       "      <td>18-02-2011</td>\n",
       "      <td>1572117.54</td>\n",
       "      <td>NaN</td>\n",
       "      <td>59.61</td>\n",
       "      <td>3.045</td>\n",
       "      <td>214.777523</td>\n",
       "      <td>6.858</td>\n",
       "    </tr>\n",
       "    <tr>\n",
       "      <th>1</th>\n",
       "      <td>13.0</td>\n",
       "      <td>25-03-2011</td>\n",
       "      <td>1807545.43</td>\n",
       "      <td>0.0</td>\n",
       "      <td>42.38</td>\n",
       "      <td>3.435</td>\n",
       "      <td>128.616064</td>\n",
       "      <td>7.470</td>\n",
       "    </tr>\n",
       "    <tr>\n",
       "      <th>2</th>\n",
       "      <td>17.0</td>\n",
       "      <td>27-07-2012</td>\n",
       "      <td>NaN</td>\n",
       "      <td>0.0</td>\n",
       "      <td>NaN</td>\n",
       "      <td>NaN</td>\n",
       "      <td>130.719581</td>\n",
       "      <td>5.936</td>\n",
       "    </tr>\n",
       "    <tr>\n",
       "      <th>3</th>\n",
       "      <td>11.0</td>\n",
       "      <td>NaN</td>\n",
       "      <td>1244390.03</td>\n",
       "      <td>0.0</td>\n",
       "      <td>84.57</td>\n",
       "      <td>NaN</td>\n",
       "      <td>214.556497</td>\n",
       "      <td>7.346</td>\n",
       "    </tr>\n",
       "    <tr>\n",
       "      <th>4</th>\n",
       "      <td>6.0</td>\n",
       "      <td>28-05-2010</td>\n",
       "      <td>1644470.66</td>\n",
       "      <td>0.0</td>\n",
       "      <td>78.89</td>\n",
       "      <td>2.759</td>\n",
       "      <td>212.412888</td>\n",
       "      <td>7.092</td>\n",
       "    </tr>\n",
       "  </tbody>\n",
       "</table>\n",
       "</div>"
      ],
      "text/plain": [
       "   Store        Date  Weekly_Sales  Holiday_Flag  Temperature  Fuel_Price  \\\n",
       "0    6.0  18-02-2011    1572117.54           NaN        59.61       3.045   \n",
       "1   13.0  25-03-2011    1807545.43           0.0        42.38       3.435   \n",
       "2   17.0  27-07-2012           NaN           0.0          NaN         NaN   \n",
       "3   11.0         NaN    1244390.03           0.0        84.57         NaN   \n",
       "4    6.0  28-05-2010    1644470.66           0.0        78.89       2.759   \n",
       "\n",
       "          CPI  Unemployment  \n",
       "0  214.777523         6.858  \n",
       "1  128.616064         7.470  \n",
       "2  130.719581         5.936  \n",
       "3  214.556497         7.346  \n",
       "4  212.412888         7.092  "
      ]
     },
     "execution_count": 277,
     "metadata": {},
     "output_type": "execute_result"
    }
   ],
   "source": [
    "# Import dataset\n",
    "print(\"Loading dataset...\")\n",
    "\n",
    "path_to_file=\"/Users/saas1/OneDrive/Escritorio/introduction_to_ python_for_data_science/Projects/Project_4/Walmart_Sales\"\n",
    "df = pd.read_csv(path_to_file+\"/Walmart_Store_sales.csv\")\n",
    "print(\"...Done.\")\n",
    "df.head()"
   ]
  },
  {
   "cell_type": "markdown",
   "metadata": {},
   "source": [
    "***Looking the df info,shape,describe***"
   ]
  },
  {
   "cell_type": "code",
   "execution_count": 278,
   "metadata": {},
   "outputs": [
    {
     "data": {
      "text/plain": [
       "(150, 8)"
      ]
     },
     "execution_count": 278,
     "metadata": {},
     "output_type": "execute_result"
    }
   ],
   "source": [
    "df.shape"
   ]
  },
  {
   "cell_type": "code",
   "execution_count": 279,
   "metadata": {},
   "outputs": [
    {
     "name": "stdout",
     "output_type": "stream",
     "text": [
      "<class 'pandas.core.frame.DataFrame'>\n",
      "RangeIndex: 150 entries, 0 to 149\n",
      "Data columns (total 8 columns):\n",
      " #   Column        Non-Null Count  Dtype  \n",
      "---  ------        --------------  -----  \n",
      " 0   Store         150 non-null    float64\n",
      " 1   Date          132 non-null    object \n",
      " 2   Weekly_Sales  136 non-null    float64\n",
      " 3   Holiday_Flag  138 non-null    float64\n",
      " 4   Temperature   132 non-null    float64\n",
      " 5   Fuel_Price    136 non-null    float64\n",
      " 6   CPI           138 non-null    float64\n",
      " 7   Unemployment  135 non-null    float64\n",
      "dtypes: float64(7), object(1)\n",
      "memory usage: 9.5+ KB\n"
     ]
    }
   ],
   "source": [
    "df.info()"
   ]
  },
  {
   "cell_type": "code",
   "execution_count": 280,
   "metadata": {},
   "outputs": [
    {
     "data": {
      "text/plain": [
       "Date            18\n",
       "Temperature     18\n",
       "Unemployment    15\n",
       "Weekly_Sales    14\n",
       "Fuel_Price      14\n",
       "Holiday_Flag    12\n",
       "CPI             12\n",
       "Store            0\n",
       "dtype: int64"
      ]
     },
     "execution_count": 280,
     "metadata": {},
     "output_type": "execute_result"
    }
   ],
   "source": [
    "df.isnull().sum().sort_values(ascending=False)"
   ]
  },
  {
   "cell_type": "code",
   "execution_count": 281,
   "metadata": {},
   "outputs": [
    {
     "data": {
      "text/html": [
       "<div>\n",
       "<style scoped>\n",
       "    .dataframe tbody tr th:only-of-type {\n",
       "        vertical-align: middle;\n",
       "    }\n",
       "\n",
       "    .dataframe tbody tr th {\n",
       "        vertical-align: top;\n",
       "    }\n",
       "\n",
       "    .dataframe thead th {\n",
       "        text-align: right;\n",
       "    }\n",
       "</style>\n",
       "<table border=\"1\" class=\"dataframe\">\n",
       "  <thead>\n",
       "    <tr style=\"text-align: right;\">\n",
       "      <th></th>\n",
       "      <th>Store</th>\n",
       "      <th>Weekly_Sales</th>\n",
       "      <th>Holiday_Flag</th>\n",
       "      <th>Temperature</th>\n",
       "      <th>Fuel_Price</th>\n",
       "      <th>CPI</th>\n",
       "      <th>Unemployment</th>\n",
       "    </tr>\n",
       "  </thead>\n",
       "  <tbody>\n",
       "    <tr>\n",
       "      <th>count</th>\n",
       "      <td>150.000000</td>\n",
       "      <td>1.360000e+02</td>\n",
       "      <td>138.000000</td>\n",
       "      <td>132.000000</td>\n",
       "      <td>136.000000</td>\n",
       "      <td>138.000000</td>\n",
       "      <td>135.000000</td>\n",
       "    </tr>\n",
       "    <tr>\n",
       "      <th>mean</th>\n",
       "      <td>9.866667</td>\n",
       "      <td>1.249536e+06</td>\n",
       "      <td>0.079710</td>\n",
       "      <td>61.398106</td>\n",
       "      <td>3.320853</td>\n",
       "      <td>179.898509</td>\n",
       "      <td>7.598430</td>\n",
       "    </tr>\n",
       "    <tr>\n",
       "      <th>std</th>\n",
       "      <td>6.231191</td>\n",
       "      <td>6.474630e+05</td>\n",
       "      <td>0.271831</td>\n",
       "      <td>18.378901</td>\n",
       "      <td>0.478149</td>\n",
       "      <td>40.274956</td>\n",
       "      <td>1.577173</td>\n",
       "    </tr>\n",
       "    <tr>\n",
       "      <th>min</th>\n",
       "      <td>1.000000</td>\n",
       "      <td>2.689290e+05</td>\n",
       "      <td>0.000000</td>\n",
       "      <td>18.790000</td>\n",
       "      <td>2.514000</td>\n",
       "      <td>126.111903</td>\n",
       "      <td>5.143000</td>\n",
       "    </tr>\n",
       "    <tr>\n",
       "      <th>25%</th>\n",
       "      <td>4.000000</td>\n",
       "      <td>6.050757e+05</td>\n",
       "      <td>0.000000</td>\n",
       "      <td>45.587500</td>\n",
       "      <td>2.852250</td>\n",
       "      <td>131.970831</td>\n",
       "      <td>6.597500</td>\n",
       "    </tr>\n",
       "    <tr>\n",
       "      <th>50%</th>\n",
       "      <td>9.000000</td>\n",
       "      <td>1.261424e+06</td>\n",
       "      <td>0.000000</td>\n",
       "      <td>62.985000</td>\n",
       "      <td>3.451000</td>\n",
       "      <td>197.908893</td>\n",
       "      <td>7.470000</td>\n",
       "    </tr>\n",
       "    <tr>\n",
       "      <th>75%</th>\n",
       "      <td>15.750000</td>\n",
       "      <td>1.806386e+06</td>\n",
       "      <td>0.000000</td>\n",
       "      <td>76.345000</td>\n",
       "      <td>3.706250</td>\n",
       "      <td>214.934616</td>\n",
       "      <td>8.150000</td>\n",
       "    </tr>\n",
       "    <tr>\n",
       "      <th>max</th>\n",
       "      <td>20.000000</td>\n",
       "      <td>2.771397e+06</td>\n",
       "      <td>1.000000</td>\n",
       "      <td>91.650000</td>\n",
       "      <td>4.193000</td>\n",
       "      <td>226.968844</td>\n",
       "      <td>14.313000</td>\n",
       "    </tr>\n",
       "  </tbody>\n",
       "</table>\n",
       "</div>"
      ],
      "text/plain": [
       "            Store  Weekly_Sales  Holiday_Flag  Temperature  Fuel_Price  \\\n",
       "count  150.000000  1.360000e+02    138.000000   132.000000  136.000000   \n",
       "mean     9.866667  1.249536e+06      0.079710    61.398106    3.320853   \n",
       "std      6.231191  6.474630e+05      0.271831    18.378901    0.478149   \n",
       "min      1.000000  2.689290e+05      0.000000    18.790000    2.514000   \n",
       "25%      4.000000  6.050757e+05      0.000000    45.587500    2.852250   \n",
       "50%      9.000000  1.261424e+06      0.000000    62.985000    3.451000   \n",
       "75%     15.750000  1.806386e+06      0.000000    76.345000    3.706250   \n",
       "max     20.000000  2.771397e+06      1.000000    91.650000    4.193000   \n",
       "\n",
       "              CPI  Unemployment  \n",
       "count  138.000000    135.000000  \n",
       "mean   179.898509      7.598430  \n",
       "std     40.274956      1.577173  \n",
       "min    126.111903      5.143000  \n",
       "25%    131.970831      6.597500  \n",
       "50%    197.908893      7.470000  \n",
       "75%    214.934616      8.150000  \n",
       "max    226.968844     14.313000  "
      ]
     },
     "execution_count": 281,
     "metadata": {},
     "output_type": "execute_result"
    }
   ],
   "source": [
    "df.describe()"
   ]
  },
  {
   "cell_type": "markdown",
   "metadata": {},
   "source": [
    "***Create a df excluding Y missing values***"
   ]
  },
  {
   "cell_type": "code",
   "execution_count": 282,
   "metadata": {},
   "outputs": [],
   "source": [
    "mask=df[\"Weekly_Sales\"].notnull()\n",
    "\n",
    "final_df=df[mask]"
   ]
  },
  {
   "cell_type": "code",
   "execution_count": 283,
   "metadata": {},
   "outputs": [
    {
     "name": "stdout",
     "output_type": "stream",
     "text": [
      "<class 'pandas.core.frame.DataFrame'>\n",
      "Int64Index: 136 entries, 0 to 149\n",
      "Data columns (total 8 columns):\n",
      " #   Column        Non-Null Count  Dtype  \n",
      "---  ------        --------------  -----  \n",
      " 0   Store         136 non-null    float64\n",
      " 1   Date          118 non-null    object \n",
      " 2   Weekly_Sales  136 non-null    float64\n",
      " 3   Holiday_Flag  125 non-null    float64\n",
      " 4   Temperature   121 non-null    float64\n",
      " 5   Fuel_Price    124 non-null    float64\n",
      " 6   CPI           125 non-null    float64\n",
      " 7   Unemployment  122 non-null    float64\n",
      "dtypes: float64(7), object(1)\n",
      "memory usage: 9.6+ KB\n"
     ]
    }
   ],
   "source": [
    "final_df.info()"
   ]
  },
  {
   "cell_type": "code",
   "execution_count": 284,
   "metadata": {},
   "outputs": [
    {
     "data": {
      "text/plain": [
       "Date            18\n",
       "Temperature     15\n",
       "Unemployment    14\n",
       "Fuel_Price      12\n",
       "Holiday_Flag    11\n",
       "CPI             11\n",
       "Store            0\n",
       "Weekly_Sales     0\n",
       "dtype: int64"
      ]
     },
     "execution_count": 284,
     "metadata": {},
     "output_type": "execute_result"
    }
   ],
   "source": [
    "final_df.isnull().sum().sort_values(ascending=False)"
   ]
  },
  {
   "cell_type": "markdown",
   "metadata": {},
   "source": [
    "***Checking if there are some categorical variables***"
   ]
  },
  {
   "cell_type": "code",
   "execution_count": 285,
   "metadata": {},
   "outputs": [
    {
     "data": {
      "text/plain": [
       "Weekly_Sales    136\n",
       "CPI             123\n",
       "Temperature     119\n",
       "Fuel_Price      113\n",
       "Unemployment    100\n",
       "Date             79\n",
       "Store            20\n",
       "Holiday_Flag      2\n",
       "dtype: int64"
      ]
     },
     "execution_count": 285,
     "metadata": {},
     "output_type": "execute_result"
    }
   ],
   "source": [
    "final_df.nunique().sort_values(ascending=False)\n",
    "\n",
    "#Store and Holiday_Flag seems to be categorical"
   ]
  },
  {
   "cell_type": "code",
   "execution_count": 286,
   "metadata": {},
   "outputs": [
    {
     "data": {
      "text/plain": [
       "Holiday_Flag\n",
       "0.0    116\n",
       "1.0      9\n",
       "Name: Holiday_Flag, dtype: int64"
      ]
     },
     "execution_count": 286,
     "metadata": {},
     "output_type": "execute_result"
    }
   ],
   "source": [
    "final_df.groupby(\"Holiday_Flag\")['Holiday_Flag'].count() # Two categories"
   ]
  },
  {
   "cell_type": "code",
   "execution_count": 287,
   "metadata": {},
   "outputs": [
    {
     "data": {
      "text/plain": [
       "Store\n",
       "3.0     12\n",
       "18.0    10\n",
       "1.0      9\n",
       "14.0     9\n",
       "13.0     9\n",
       "5.0      8\n",
       "7.0      8\n",
       "19.0     8\n",
       "2.0      8\n",
       "17.0     7\n",
       "4.0      6\n",
       "6.0      6\n",
       "8.0      6\n",
       "20.0     5\n",
       "12.0     5\n",
       "10.0     5\n",
       "15.0     4\n",
       "16.0     4\n",
       "9.0      4\n",
       "11.0     3\n",
       "Name: Store, dtype: int64"
      ]
     },
     "execution_count": 287,
     "metadata": {},
     "output_type": "execute_result"
    }
   ],
   "source": [
    "final_df.groupby('Store')['Store'].count().sort_values(ascending=False) # Muticategories"
   ]
  },
  {
   "cell_type": "markdown",
   "metadata": {},
   "source": [
    "### Some Visualizations"
   ]
  },
  {
   "cell_type": "code",
   "execution_count": 288,
   "metadata": {},
   "outputs": [],
   "source": [
    "#Pandas profiling easy way to obtain all the visualization in one report\n",
    "#profile = ProfileReport(df, title=\"Pandas Profiling Report\", explorative=True)\n",
    "#profile"
   ]
  },
  {
   "cell_type": "markdown",
   "metadata": {},
   "source": [
    "***Target Variable Distribution***"
   ]
  },
  {
   "cell_type": "code",
   "execution_count": 289,
   "metadata": {},
   "outputs": [
    {
     "data": {
      "image/png": "[encoded data removed]",
      "text/plain": [
       "<Figure size 864x576 with 2 Axes>"
      ]
     },
     "metadata": {
      "needs_background": "light"
     },
     "output_type": "display_data"
    }
   ],
   "source": [
    "fig, ax =plt.subplots(nrows=2,ncols=1,figsize=(12,8))\n",
    "sns.boxplot(x=final_df[\"Weekly_Sales\"],ax=ax[0])\n",
    "sns.histplot(x=final_df[\"Weekly_Sales\"],ax=ax[1])\n",
    "plt.show()"
   ]
  },
  {
   "cell_type": "markdown",
   "metadata": {},
   "source": [
    "***Explanatory variables distributions/boxplot***"
   ]
  },
  {
   "cell_type": "code",
   "execution_count": 290,
   "metadata": {},
   "outputs": [
    {
     "data": {
      "image/png": "[encoded data removed]",
      "text/plain": [
       "<Figure size 864x576 with 2 Axes>"
      ]
     },
     "metadata": {
      "needs_background": "light"
     },
     "output_type": "display_data"
    }
   ],
   "source": [
    "fig, ax =plt.subplots(nrows=2,ncols=1,figsize=(12,8))\n",
    "sns.boxplot(x=final_df[\"Temperature\"],ax=ax[0])\n",
    "sns.histplot(x=final_df[\"Temperature\"],ax=ax[1])\n",
    "plt.show()\n"
   ]
  },
  {
   "cell_type": "code",
   "execution_count": 291,
   "metadata": {},
   "outputs": [
    {
     "data": {
      "image/png": "[encoded data removed]",
      "text/plain": [
       "<Figure size 864x576 with 2 Axes>"
      ]
     },
     "metadata": {
      "needs_background": "light"
     },
     "output_type": "display_data"
    }
   ],
   "source": [
    "fig, ax =plt.subplots(nrows=2,ncols=1,figsize=(12,8))\n",
    "sns.boxplot(x=final_df[\"Fuel_Price\"],ax=ax[0])\n",
    "sns.histplot(x=final_df[\"Fuel_Price\"],ax=ax[1])\n",
    "plt.show()\n"
   ]
  },
  {
   "cell_type": "code",
   "execution_count": 292,
   "metadata": {},
   "outputs": [
    {
     "data": {
      "image/png": "[encoded data removed]",
      "text/plain": [
       "<Figure size 864x576 with 2 Axes>"
      ]
     },
     "metadata": {
      "needs_background": "light"
     },
     "output_type": "display_data"
    }
   ],
   "source": [
    "# Some outliers \n",
    "fig, ax =plt.subplots(nrows=2,ncols=1,figsize=(12,8))\n",
    "sns.boxplot(x=final_df[\"Unemployment\"],ax=ax[0])\n",
    "sns.histplot(x=final_df[\"Unemployment\"],ax=ax[1])\n",
    "plt.show()\n"
   ]
  },
  {
   "cell_type": "code",
   "execution_count": 293,
   "metadata": {},
   "outputs": [
    {
     "data": {
      "image/png": "[encoded data removed]",
      "text/plain": [
       "<Figure size 864x576 with 2 Axes>"
      ]
     },
     "metadata": {
      "needs_background": "light"
     },
     "output_type": "display_data"
    }
   ],
   "source": [
    "# Some outliers \n",
    "\n",
    "fig, ax =plt.subplots(nrows=2,ncols=1,figsize=(12,8))\n",
    "sns.boxplot(x=final_df[\"CPI\"],ax=ax[0])\n",
    "sns.histplot(x=final_df[\"CPI\"],ax=ax[1])\n",
    "plt.show()"
   ]
  },
  {
   "cell_type": "code",
   "execution_count": 294,
   "metadata": {},
   "outputs": [
    {
     "data": {
      "text/plain": [
       "<seaborn.axisgrid.FacetGrid at 0x1b154661fc8>"
      ]
     },
     "execution_count": 294,
     "metadata": {},
     "output_type": "execute_result"
    },
    {
     "data": {
      "image/png": "[encoded data removed]",
      "text/plain": [
       "<Figure size 360x360 with 1 Axes>"
      ]
     },
     "metadata": {
      "needs_background": "light"
     },
     "output_type": "display_data"
    }
   ],
   "source": [
    "sns.displot(x=final_df[\"Holiday_Flag\"]) #This is a categorical variable (binary)"
   ]
  },
  {
   "cell_type": "code",
   "execution_count": 295,
   "metadata": {},
   "outputs": [
    {
     "data": {
      "text/plain": [
       "<seaborn.axisgrid.FacetGrid at 0x1b157d566c8>"
      ]
     },
     "execution_count": 295,
     "metadata": {},
     "output_type": "execute_result"
    },
    {
     "data": {
      "image/png": "[encoded data removed]",
      "text/plain": [
       "<Figure size 360x360 with 1 Axes>"
      ]
     },
     "metadata": {
      "needs_background": "light"
     },
     "output_type": "display_data"
    }
   ],
   "source": [
    "sns.displot(x=final_df[\"Store\"]) #This is a categorical variable (multiples categories)"
   ]
  },
  {
   "cell_type": "markdown",
   "metadata": {},
   "source": [
    "***Target Variable vs Explanatory Variables***"
   ]
  },
  {
   "cell_type": "code",
   "execution_count": 296,
   "metadata": {},
   "outputs": [
    {
     "data": {
      "text/plain": [
       "<seaborn.axisgrid.JointGrid at 0x1b157566948>"
      ]
     },
     "execution_count": 296,
     "metadata": {},
     "output_type": "execute_result"
    },
    {
     "data": {
      "image/png": "[encoded data removed]",
      "text/plain": [
       "<Figure size 432x432 with 3 Axes>"
      ]
     },
     "metadata": {
      "needs_background": "light"
     },
     "output_type": "display_data"
    }
   ],
   "source": [
    "sns.jointplot(data=final_df, y=\"Weekly_Sales\", x=\"Temperature\",kind=\"reg\")"
   ]
  },
  {
   "cell_type": "code",
   "execution_count": 297,
   "metadata": {},
   "outputs": [
    {
     "data": {
      "text/plain": [
       "<seaborn.axisgrid.JointGrid at 0x1b1598ae988>"
      ]
     },
     "execution_count": 297,
     "metadata": {},
     "output_type": "execute_result"
    },
    {
     "data": {
      "image/png": "[encoded data removed]",
      "text/plain": [
       "<Figure size 432x432 with 3 Axes>"
      ]
     },
     "metadata": {
      "needs_background": "light"
     },
     "output_type": "display_data"
    }
   ],
   "source": [
    "sns.jointplot(data=final_df, y=\"Weekly_Sales\", x=\"Fuel_Price\",kind=\"reg\")"
   ]
  },
  {
   "cell_type": "code",
   "execution_count": 298,
   "metadata": {},
   "outputs": [
    {
     "data": {
      "text/plain": [
       "<seaborn.axisgrid.JointGrid at 0x1b159a3d1c8>"
      ]
     },
     "execution_count": 298,
     "metadata": {},
     "output_type": "execute_result"
    },
    {
     "data": {
      "image/png": "[encoded data removed]",
      "text/plain": [
       "<Figure size 432x432 with 3 Axes>"
      ]
     },
     "metadata": {
      "needs_background": "light"
     },
     "output_type": "display_data"
    }
   ],
   "source": [
    "sns.jointplot(data=final_df, y=\"Weekly_Sales\", x=\"Unemployment\",kind=\"reg\")"
   ]
  },
  {
   "cell_type": "code",
   "execution_count": 299,
   "metadata": {},
   "outputs": [
    {
     "data": {
      "text/plain": [
       "<seaborn.axisgrid.JointGrid at 0x1b159bbd088>"
      ]
     },
     "execution_count": 299,
     "metadata": {},
     "output_type": "execute_result"
    },
    {
     "data": {
      "image/png": "[encoded data removed]",
      "text/plain": [
       "<Figure size 432x432 with 3 Axes>"
      ]
     },
     "metadata": {
      "needs_background": "light"
     },
     "output_type": "display_data"
    }
   ],
   "source": [
    "sns.jointplot(data=final_df, y=\"Weekly_Sales\", x=\"CPI\",kind=\"reg\")"
   ]
  },
  {
   "cell_type": "code",
   "execution_count": 300,
   "metadata": {},
   "outputs": [
    {
     "data": {
      "text/plain": [
       "<seaborn.axisgrid.JointGrid at 0x1b15ae66908>"
      ]
     },
     "execution_count": 300,
     "metadata": {},
     "output_type": "execute_result"
    },
    {
     "data": {
      "image/png": "[encoded data removed]",
      "text/plain": [
       "<Figure size 432x432 with 3 Axes>"
      ]
     },
     "metadata": {
      "needs_background": "light"
     },
     "output_type": "display_data"
    }
   ],
   "source": [
    "sns.jointplot(data=final_df, y=\"Weekly_Sales\", x=\"Holiday_Flag\")\n"
   ]
  },
  {
   "cell_type": "code",
   "execution_count": 301,
   "metadata": {},
   "outputs": [
    {
     "data": {
      "text/plain": [
       "<seaborn.axisgrid.JointGrid at 0x1b15afaab88>"
      ]
     },
     "execution_count": 301,
     "metadata": {},
     "output_type": "execute_result"
    },
    {
     "data": {
      "image/png": "[encoded data removed]",
      "text/plain": [
       "<Figure size 432x432 with 3 Axes>"
      ]
     },
     "metadata": {
      "needs_background": "light"
     },
     "output_type": "display_data"
    }
   ],
   "source": [
    "sns.jointplot(data=final_df, y=\"Weekly_Sales\", x=\"Store\")"
   ]
  },
  {
   "cell_type": "markdown",
   "metadata": {},
   "source": [
    "***Correlation Matrix***"
   ]
  },
  {
   "cell_type": "code",
   "execution_count": 302,
   "metadata": {},
   "outputs": [
    {
     "data": {
      "text/plain": [
       "<AxesSubplot:>"
      ]
     },
     "execution_count": 302,
     "metadata": {},
     "output_type": "execute_result"
    },
    {
     "data": {
      "image/png": "[encoded data removed]",
      "text/plain": [
       "<Figure size 432x288 with 2 Axes>"
      ]
     },
     "metadata": {
      "needs_background": "light"
     },
     "output_type": "display_data"
    }
   ],
   "source": [
    "corre=abs(final_df.corr())\n",
    "sns.heatmap(corre, annot=True)"
   ]
  },
  {
   "cell_type": "markdown",
   "metadata": {},
   "source": [
    "### Treating the outliers ###"
   ]
  },
  {
   "cell_type": "code",
   "execution_count": 303,
   "metadata": {},
   "outputs": [
    {
     "data": {
      "text/html": [
       "<div>\n",
       "<style scoped>\n",
       "    .dataframe tbody tr th:only-of-type {\n",
       "        vertical-align: middle;\n",
       "    }\n",
       "\n",
       "    .dataframe tbody tr th {\n",
       "        vertical-align: top;\n",
       "    }\n",
       "\n",
       "    .dataframe thead th {\n",
       "        text-align: right;\n",
       "    }\n",
       "</style>\n",
       "<table border=\"1\" class=\"dataframe\">\n",
       "  <thead>\n",
       "    <tr style=\"text-align: right;\">\n",
       "      <th></th>\n",
       "      <th>Store</th>\n",
       "      <th>Weekly_Sales</th>\n",
       "      <th>Holiday_Flag</th>\n",
       "      <th>Temperature</th>\n",
       "      <th>Fuel_Price</th>\n",
       "      <th>CPI</th>\n",
       "      <th>Unemployment</th>\n",
       "    </tr>\n",
       "  </thead>\n",
       "  <tbody>\n",
       "    <tr>\n",
       "      <th>0</th>\n",
       "      <td>6.0</td>\n",
       "      <td>1572117.54</td>\n",
       "      <td>NaN</td>\n",
       "      <td>59.61</td>\n",
       "      <td>3.045</td>\n",
       "      <td>214.777523</td>\n",
       "      <td>6.858</td>\n",
       "    </tr>\n",
       "    <tr>\n",
       "      <th>1</th>\n",
       "      <td>13.0</td>\n",
       "      <td>1807545.43</td>\n",
       "      <td>0.0</td>\n",
       "      <td>42.38</td>\n",
       "      <td>3.435</td>\n",
       "      <td>128.616064</td>\n",
       "      <td>7.470</td>\n",
       "    </tr>\n",
       "    <tr>\n",
       "      <th>3</th>\n",
       "      <td>11.0</td>\n",
       "      <td>1244390.03</td>\n",
       "      <td>0.0</td>\n",
       "      <td>84.57</td>\n",
       "      <td>NaN</td>\n",
       "      <td>214.556497</td>\n",
       "      <td>7.346</td>\n",
       "    </tr>\n",
       "    <tr>\n",
       "      <th>4</th>\n",
       "      <td>6.0</td>\n",
       "      <td>1644470.66</td>\n",
       "      <td>0.0</td>\n",
       "      <td>78.89</td>\n",
       "      <td>2.759</td>\n",
       "      <td>212.412888</td>\n",
       "      <td>7.092</td>\n",
       "    </tr>\n",
       "    <tr>\n",
       "      <th>5</th>\n",
       "      <td>4.0</td>\n",
       "      <td>1857533.70</td>\n",
       "      <td>0.0</td>\n",
       "      <td>NaN</td>\n",
       "      <td>2.756</td>\n",
       "      <td>126.160226</td>\n",
       "      <td>7.896</td>\n",
       "    </tr>\n",
       "  </tbody>\n",
       "</table>\n",
       "</div>"
      ],
      "text/plain": [
       "   Store  Weekly_Sales  Holiday_Flag  Temperature  Fuel_Price         CPI  \\\n",
       "0    6.0    1572117.54           NaN        59.61       3.045  214.777523   \n",
       "1   13.0    1807545.43           0.0        42.38       3.435  128.616064   \n",
       "3   11.0    1244390.03           0.0        84.57         NaN  214.556497   \n",
       "4    6.0    1644470.66           0.0        78.89       2.759  212.412888   \n",
       "5    4.0    1857533.70           0.0          NaN       2.756  126.160226   \n",
       "\n",
       "   Unemployment  \n",
       "0         6.858  \n",
       "1         7.470  \n",
       "3         7.346  \n",
       "4         7.092  \n",
       "5         7.896  "
      ]
     },
     "execution_count": 303,
     "metadata": {},
     "output_type": "execute_result"
    }
   ],
   "source": [
    "final_df=final_df.drop(columns=\"Date\",axis=1)\n",
    "final_df.head()"
   ]
  },
  {
   "cell_type": "code",
   "execution_count": 304,
   "metadata": {},
   "outputs": [
    {
     "name": "stdout",
     "output_type": "stream",
     "text": [
      "Temperature --Lower_level-- 5.310671332416675 --Mean/Average-- 60.853966942148745 --Upper_level-- 116.39726255188081\n",
      "Fuel_Price --Lower_level-- 1.8783712293923445 --Mean/Average-- 3.3169919354838697 --Upper_level-- 4.755612641575395\n",
      "CPI --Lower_level-- 57.36182994106022 --Mean/Average-- 178.09114404399995 --Upper_level-- 298.8204581469397\n",
      "Unemployment --Lower_level-- 2.80729684215221 --Mean/Average-- 7.665581967213114 --Upper_level-- 12.523867092274017\n"
     ]
    },
    {
     "name": "stderr",
     "output_type": "stream",
     "text": [
      "C:\\Users\\saas1\\anaconda3\\lib\\site-packages\\ipykernel_launcher.py:13: UserWarning: Boolean Series key will be reindexed to match DataFrame index.\n",
      "  del sys.path[0]\n"
     ]
    }
   ],
   "source": [
    "clean_df=final_df\n",
    "\n",
    "num_columns= [\"Temperature\",\"Fuel_Price\",\"CPI\",\"Unemployment\"]\n",
    "for i in num_columns:\n",
    "    col_std=(final_df[i].std())*3\n",
    "    col_mean=final_df[i].mean()\n",
    "    \n",
    "    upper_level=col_mean+col_std\n",
    "    lower_level=col_mean-col_std\n",
    "\n",
    "    mask=(final_df[i]>= lower_level) & (final_df[i]<=upper_level)\n",
    "\n",
    "    clean_df=clean_df[mask]\n",
    "\n",
    "\n",
    "    print(i,\"--Lower_level--\",lower_level,\"--Mean/Average--\",col_mean,\"--Upper_level--\",upper_level)"
   ]
  },
  {
   "cell_type": "code",
   "execution_count": 305,
   "metadata": {},
   "outputs": [
    {
     "data": {
      "text/html": [
       "<div>\n",
       "<style scoped>\n",
       "    .dataframe tbody tr th:only-of-type {\n",
       "        vertical-align: middle;\n",
       "    }\n",
       "\n",
       "    .dataframe tbody tr th {\n",
       "        vertical-align: top;\n",
       "    }\n",
       "\n",
       "    .dataframe thead th {\n",
       "        text-align: right;\n",
       "    }\n",
       "</style>\n",
       "<table border=\"1\" class=\"dataframe\">\n",
       "  <thead>\n",
       "    <tr style=\"text-align: right;\">\n",
       "      <th></th>\n",
       "      <th>Store</th>\n",
       "      <th>Weekly_Sales</th>\n",
       "      <th>Holiday_Flag</th>\n",
       "      <th>Temperature</th>\n",
       "      <th>Fuel_Price</th>\n",
       "      <th>CPI</th>\n",
       "      <th>Unemployment</th>\n",
       "    </tr>\n",
       "  </thead>\n",
       "  <tbody>\n",
       "    <tr>\n",
       "      <th>count</th>\n",
       "      <td>90.000000</td>\n",
       "      <td>9.000000e+01</td>\n",
       "      <td>80.000000</td>\n",
       "      <td>90.00000</td>\n",
       "      <td>90.000000</td>\n",
       "      <td>90.000000</td>\n",
       "      <td>90.000000</td>\n",
       "    </tr>\n",
       "    <tr>\n",
       "      <th>mean</th>\n",
       "      <td>9.900000</td>\n",
       "      <td>1.233865e+06</td>\n",
       "      <td>0.075000</td>\n",
       "      <td>61.06100</td>\n",
       "      <td>3.318444</td>\n",
       "      <td>179.524905</td>\n",
       "      <td>7.389733</td>\n",
       "    </tr>\n",
       "    <tr>\n",
       "      <th>std</th>\n",
       "      <td>6.204475</td>\n",
       "      <td>6.647250e+05</td>\n",
       "      <td>0.265053</td>\n",
       "      <td>17.74604</td>\n",
       "      <td>0.484399</td>\n",
       "      <td>39.554303</td>\n",
       "      <td>0.982729</td>\n",
       "    </tr>\n",
       "    <tr>\n",
       "      <th>min</th>\n",
       "      <td>1.000000</td>\n",
       "      <td>2.689290e+05</td>\n",
       "      <td>0.000000</td>\n",
       "      <td>18.79000</td>\n",
       "      <td>2.548000</td>\n",
       "      <td>126.128355</td>\n",
       "      <td>5.143000</td>\n",
       "    </tr>\n",
       "    <tr>\n",
       "      <th>25%</th>\n",
       "      <td>4.000000</td>\n",
       "      <td>5.617240e+05</td>\n",
       "      <td>0.000000</td>\n",
       "      <td>45.34250</td>\n",
       "      <td>2.814750</td>\n",
       "      <td>132.602339</td>\n",
       "      <td>6.642250</td>\n",
       "    </tr>\n",
       "    <tr>\n",
       "      <th>50%</th>\n",
       "      <td>9.000000</td>\n",
       "      <td>1.260826e+06</td>\n",
       "      <td>0.000000</td>\n",
       "      <td>61.45000</td>\n",
       "      <td>3.468000</td>\n",
       "      <td>197.166416</td>\n",
       "      <td>7.419000</td>\n",
       "    </tr>\n",
       "    <tr>\n",
       "      <th>75%</th>\n",
       "      <td>15.750000</td>\n",
       "      <td>1.807159e+06</td>\n",
       "      <td>0.000000</td>\n",
       "      <td>75.79250</td>\n",
       "      <td>3.737750</td>\n",
       "      <td>214.855374</td>\n",
       "      <td>8.099000</td>\n",
       "    </tr>\n",
       "    <tr>\n",
       "      <th>max</th>\n",
       "      <td>20.000000</td>\n",
       "      <td>2.771397e+06</td>\n",
       "      <td>1.000000</td>\n",
       "      <td>91.65000</td>\n",
       "      <td>4.170000</td>\n",
       "      <td>226.968844</td>\n",
       "      <td>9.342000</td>\n",
       "    </tr>\n",
       "  </tbody>\n",
       "</table>\n",
       "</div>"
      ],
      "text/plain": [
       "           Store  Weekly_Sales  Holiday_Flag  Temperature  Fuel_Price  \\\n",
       "count  90.000000  9.000000e+01     80.000000     90.00000   90.000000   \n",
       "mean    9.900000  1.233865e+06      0.075000     61.06100    3.318444   \n",
       "std     6.204475  6.647250e+05      0.265053     17.74604    0.484399   \n",
       "min     1.000000  2.689290e+05      0.000000     18.79000    2.548000   \n",
       "25%     4.000000  5.617240e+05      0.000000     45.34250    2.814750   \n",
       "50%     9.000000  1.260826e+06      0.000000     61.45000    3.468000   \n",
       "75%    15.750000  1.807159e+06      0.000000     75.79250    3.737750   \n",
       "max    20.000000  2.771397e+06      1.000000     91.65000    4.170000   \n",
       "\n",
       "              CPI  Unemployment  \n",
       "count   90.000000     90.000000  \n",
       "mean   179.524905      7.389733  \n",
       "std     39.554303      0.982729  \n",
       "min    126.128355      5.143000  \n",
       "25%    132.602339      6.642250  \n",
       "50%    197.166416      7.419000  \n",
       "75%    214.855374      8.099000  \n",
       "max    226.968844      9.342000  "
      ]
     },
     "execution_count": 305,
     "metadata": {},
     "output_type": "execute_result"
    }
   ],
   "source": [
    "clean_df.describe() "
   ]
  },
  {
   "cell_type": "code",
   "execution_count": 306,
   "metadata": {},
   "outputs": [
    {
     "data": {
      "text/plain": [
       "Holiday_Flag    10\n",
       "Store            0\n",
       "Weekly_Sales     0\n",
       "Temperature      0\n",
       "Fuel_Price       0\n",
       "CPI              0\n",
       "Unemployment     0\n",
       "dtype: int64"
      ]
     },
     "execution_count": 306,
     "metadata": {},
     "output_type": "execute_result"
    }
   ],
   "source": [
    "clean_df.isnull().sum().sort_values(ascending=False)"
   ]
  },
  {
   "cell_type": "markdown",
   "metadata": {},
   "source": [
    "### Spliting the DF ###"
   ]
  },
  {
   "cell_type": "code",
   "execution_count": 307,
   "metadata": {},
   "outputs": [],
   "source": [
    "Y=clean_df[\"Weekly_Sales\"]\n",
    "X=clean_df.drop(columns=[\"Weekly_Sales\"],axis=1)"
   ]
  },
  {
   "cell_type": "code",
   "execution_count": 308,
   "metadata": {},
   "outputs": [
    {
     "data": {
      "text/plain": [
       "Index(['Store', 'Holiday_Flag', 'Temperature', 'Fuel_Price', 'CPI',\n",
       "       'Unemployment'],\n",
       "      dtype='object')"
      ]
     },
     "execution_count": 308,
     "metadata": {},
     "output_type": "execute_result"
    }
   ],
   "source": [
    "X.columns"
   ]
  },
  {
   "cell_type": "code",
   "execution_count": 309,
   "metadata": {},
   "outputs": [],
   "source": [
    "X_train, X_test, Y_train, Y_test = train_test_split(X, Y, test_size=0.21, random_state=0,stratify=X[[\"Store\"]])"
   ]
  },
  {
   "cell_type": "code",
   "execution_count": 310,
   "metadata": {},
   "outputs": [],
   "source": [
    "X_train=X_train.values\n",
    "X_test=X_test.values\n",
    "Y_train=Y_train.values\n",
    "Y_test=Y_test.values"
   ]
  },
  {
   "cell_type": "markdown",
   "metadata": {},
   "source": [
    "### Preprocessing Pipeline ###"
   ]
  },
  {
   "cell_type": "code",
   "execution_count": 311,
   "metadata": {},
   "outputs": [],
   "source": [
    "#Columns Indexes\n",
    "\n",
    "num_index=[2,3,4,5]\n",
    "cat_index_1=[0]\n",
    "cat_index_2=[1]"
   ]
  },
  {
   "cell_type": "code",
   "execution_count": 312,
   "metadata": {},
   "outputs": [],
   "source": [
    "categorical_transformer_1 = Pipeline(\n",
    "    steps=[\n",
    "    ('encoder', OneHotEncoder(drop='first')) # first column will be dropped to avoid creating correlations between features\n",
    "    ])"
   ]
  },
  {
   "cell_type": "code",
   "execution_count": 313,
   "metadata": {},
   "outputs": [],
   "source": [
    "categorical_transformer_2 = Pipeline(\n",
    "    steps=[\n",
    "    ('imputer', SimpleImputer(strategy='most_frequent')), # missing values will be replaced by most frequent value\n",
    "     ])"
   ]
  },
  {
   "cell_type": "code",
   "execution_count": 314,
   "metadata": {},
   "outputs": [],
   "source": [
    "numeric_transformer = Pipeline(steps=[\n",
    "    ('imputer', SimpleImputer(strategy='median')), # missing values will be replaced by columns' median\n",
    "    ('scaler', StandardScaler())\n",
    "])"
   ]
  },
  {
   "cell_type": "code",
   "execution_count": 315,
   "metadata": {},
   "outputs": [],
   "source": [
    "preprocessor = ColumnTransformer(\n",
    "    transformers=[\n",
    "        ('num', numeric_transformer, num_index),\n",
    "        ('cat-1', categorical_transformer_1, cat_index_1),\n",
    "        ('cat-2', categorical_transformer_2, cat_index_2)\n",
    "    ])"
   ]
  },
  {
   "cell_type": "code",
   "execution_count": 316,
   "metadata": {},
   "outputs": [
    {
     "name": "stdout",
     "output_type": "stream",
     "text": [
      "Performing preprocessings on train set...\n",
      "...Done.\n",
      "\n"
     ]
    }
   ],
   "source": [
    "# Preprocessings on train set\n",
    "print(\"Performing preprocessings on train set...\")\n",
    "X_train = preprocessor.fit_transform(X_train)\n",
    "print('...Done.')\n",
    "print()\n"
   ]
  },
  {
   "cell_type": "code",
   "execution_count": 317,
   "metadata": {},
   "outputs": [
    {
     "name": "stdout",
     "output_type": "stream",
     "text": [
      "Performing preprocessings on test set...\n",
      "...Done.\n",
      "\n"
     ]
    }
   ],
   "source": [
    "# Preprocessings on test set\n",
    "print(\"Performing preprocessings on test set...\")\n",
    "X_test = preprocessor.transform(X_test) \n",
    "print('...Done.')\n",
    "print()"
   ]
  },
  {
   "cell_type": "markdown",
   "metadata": {},
   "source": [
    "### Linear Regressor Baseline ### "
   ]
  },
  {
   "cell_type": "code",
   "execution_count": 318,
   "metadata": {},
   "outputs": [],
   "source": [
    "regressor_base=LinearRegression()"
   ]
  },
  {
   "cell_type": "code",
   "execution_count": 319,
   "metadata": {},
   "outputs": [
    {
     "data": {
      "text/plain": [
       "LinearRegression()"
      ]
     },
     "execution_count": 319,
     "metadata": {},
     "output_type": "execute_result"
    }
   ],
   "source": [
    "regressor_base.fit(X_train,Y_train)"
   ]
  },
  {
   "cell_type": "markdown",
   "metadata": {},
   "source": [
    "***Performance Assessment in train dataset***"
   ]
  },
  {
   "cell_type": "code",
   "execution_count": 320,
   "metadata": {},
   "outputs": [
    {
     "name": "stdout",
     "output_type": "stream",
     "text": [
      "Score on training\n",
      "Linear Regression R_2 Score :  0.9753302762731941\n",
      "Linear Regression mean squared error :  10959506733.829863\n",
      "Linear Regression mean absolute error :  77209.64478147204\n"
     ]
    }
   ],
   "source": [
    "print(\"Score on training\")\n",
    "rb_train_predict= regressor_base.predict(X_train)\n",
    "print(\"Linear Regression R_2 Score : \", r2_score(Y_train, rb_train_predict))\n",
    "print(\"Linear Regression mean squared error : \", mean_squared_error(Y_train, rb_train_predict))\n",
    "print(\"Linear Regression mean absolute error : \", mean_absolute_error(Y_train, rb_train_predict))"
   ]
  },
  {
   "cell_type": "markdown",
   "metadata": {},
   "source": [
    "***Performance Assessment in test dataset***"
   ]
  },
  {
   "cell_type": "code",
   "execution_count": 321,
   "metadata": {},
   "outputs": [
    {
     "name": "stdout",
     "output_type": "stream",
     "text": [
      "Score on test\n",
      "Linear Regression R_2 Score :  0.9698414414513258\n",
      "Linear Regression mean squared error :  12193824981.755808\n",
      "Linear Regression mean absolute error :  82136.75975864501\n"
     ]
    }
   ],
   "source": [
    "print(\"Score on test\")\n",
    "rb_test_predict= regressor_base.predict(X_test)\n",
    "print(\"Linear Regression R_2 Score : \", r2_score(Y_test, rb_test_predict))\n",
    "print(\"Linear Regression mean squared error : \", mean_squared_error(Y_test, rb_test_predict))\n",
    "print(\"Linear Regression mean absolute error : \", mean_absolute_error(Y_test, rb_test_predict))"
   ]
  },
  {
   "cell_type": "markdown",
   "metadata": {},
   "source": [
    "***There is not overfitting***"
   ]
  },
  {
   "cell_type": "code",
   "execution_count": 322,
   "metadata": {},
   "outputs": [
    {
     "data": {
      "text/plain": [
       "array([  -19583.0955622 ,   -93205.36224986,   647359.26611895,\n",
       "         -31447.10195771,   223582.82015906, -1305802.55575684,\n",
       "        2055698.59446438, -1358709.47732283,   -13504.80552632,\n",
       "        -693723.12727995,  -830107.39245577, -1228607.54637771,\n",
       "        1671677.27347103,   -47656.85516153,  1848361.14974983,\n",
       "         975203.10854392,   527836.37373108,  -718912.74553944,\n",
       "         609032.62472445,   857186.91119304,  1158008.35511636,\n",
       "         558114.05819877,     6175.92055547])"
      ]
     },
     "execution_count": 322,
     "metadata": {},
     "output_type": "execute_result"
    }
   ],
   "source": [
    "regressor_base.coef_"
   ]
  },
  {
   "cell_type": "code",
   "execution_count": 323,
   "metadata": {},
   "outputs": [
    {
     "data": {
      "text/html": [
       "<div>\n",
       "<style scoped>\n",
       "    .dataframe tbody tr th:only-of-type {\n",
       "        vertical-align: middle;\n",
       "    }\n",
       "\n",
       "    .dataframe tbody tr th {\n",
       "        vertical-align: top;\n",
       "    }\n",
       "\n",
       "    .dataframe thead th {\n",
       "        text-align: right;\n",
       "    }\n",
       "</style>\n",
       "<table border=\"1\" class=\"dataframe\">\n",
       "  <thead>\n",
       "    <tr style=\"text-align: right;\">\n",
       "      <th></th>\n",
       "      <th>0</th>\n",
       "    </tr>\n",
       "  </thead>\n",
       "  <tbody>\n",
       "    <tr>\n",
       "      <th>6</th>\n",
       "      <td>2.055699e+06</td>\n",
       "    </tr>\n",
       "    <tr>\n",
       "      <th>14</th>\n",
       "      <td>1.848361e+06</td>\n",
       "    </tr>\n",
       "    <tr>\n",
       "      <th>12</th>\n",
       "      <td>1.671677e+06</td>\n",
       "    </tr>\n",
       "    <tr>\n",
       "      <th>7</th>\n",
       "      <td>1.358709e+06</td>\n",
       "    </tr>\n",
       "    <tr>\n",
       "      <th>5</th>\n",
       "      <td>1.305803e+06</td>\n",
       "    </tr>\n",
       "    <tr>\n",
       "      <th>11</th>\n",
       "      <td>1.228608e+06</td>\n",
       "    </tr>\n",
       "    <tr>\n",
       "      <th>20</th>\n",
       "      <td>1.158008e+06</td>\n",
       "    </tr>\n",
       "    <tr>\n",
       "      <th>15</th>\n",
       "      <td>9.752031e+05</td>\n",
       "    </tr>\n",
       "    <tr>\n",
       "      <th>19</th>\n",
       "      <td>8.571869e+05</td>\n",
       "    </tr>\n",
       "    <tr>\n",
       "      <th>10</th>\n",
       "      <td>8.301074e+05</td>\n",
       "    </tr>\n",
       "    <tr>\n",
       "      <th>17</th>\n",
       "      <td>7.189127e+05</td>\n",
       "    </tr>\n",
       "    <tr>\n",
       "      <th>9</th>\n",
       "      <td>6.937231e+05</td>\n",
       "    </tr>\n",
       "    <tr>\n",
       "      <th>2</th>\n",
       "      <td>6.473593e+05</td>\n",
       "    </tr>\n",
       "    <tr>\n",
       "      <th>18</th>\n",
       "      <td>6.090326e+05</td>\n",
       "    </tr>\n",
       "    <tr>\n",
       "      <th>21</th>\n",
       "      <td>5.581141e+05</td>\n",
       "    </tr>\n",
       "    <tr>\n",
       "      <th>16</th>\n",
       "      <td>5.278364e+05</td>\n",
       "    </tr>\n",
       "    <tr>\n",
       "      <th>4</th>\n",
       "      <td>2.235828e+05</td>\n",
       "    </tr>\n",
       "    <tr>\n",
       "      <th>1</th>\n",
       "      <td>9.320536e+04</td>\n",
       "    </tr>\n",
       "    <tr>\n",
       "      <th>13</th>\n",
       "      <td>4.765686e+04</td>\n",
       "    </tr>\n",
       "    <tr>\n",
       "      <th>3</th>\n",
       "      <td>3.144710e+04</td>\n",
       "    </tr>\n",
       "    <tr>\n",
       "      <th>0</th>\n",
       "      <td>1.958310e+04</td>\n",
       "    </tr>\n",
       "    <tr>\n",
       "      <th>8</th>\n",
       "      <td>1.350481e+04</td>\n",
       "    </tr>\n",
       "    <tr>\n",
       "      <th>22</th>\n",
       "      <td>6.175921e+03</td>\n",
       "    </tr>\n",
       "  </tbody>\n",
       "</table>\n",
       "</div>"
      ],
      "text/plain": [
       "               0\n",
       "6   2.055699e+06\n",
       "14  1.848361e+06\n",
       "12  1.671677e+06\n",
       "7   1.358709e+06\n",
       "5   1.305803e+06\n",
       "11  1.228608e+06\n",
       "20  1.158008e+06\n",
       "15  9.752031e+05\n",
       "19  8.571869e+05\n",
       "10  8.301074e+05\n",
       "17  7.189127e+05\n",
       "9   6.937231e+05\n",
       "2   6.473593e+05\n",
       "18  6.090326e+05\n",
       "21  5.581141e+05\n",
       "16  5.278364e+05\n",
       "4   2.235828e+05\n",
       "1   9.320536e+04\n",
       "13  4.765686e+04\n",
       "3   3.144710e+04\n",
       "0   1.958310e+04\n",
       "8   1.350481e+04\n",
       "22  6.175921e+03"
      ]
     },
     "execution_count": 323,
     "metadata": {},
     "output_type": "execute_result"
    }
   ],
   "source": [
    "coeff=abs(regressor_base.coef_)\n",
    "coeff= pd.DataFrame(coeff).sort_values(by=0,ascending=False)\n",
    "coeff"
   ]
  },
  {
   "cell_type": "markdown",
   "metadata": {},
   "source": [
    "The less important features are X23,X9,X1,X4,X14,X2\n"
   ]
  },
  {
   "cell_type": "markdown",
   "metadata": {},
   "source": [
    "***Analysing the Statistics P-Value and F-Score***"
   ]
  },
  {
   "cell_type": "code",
   "execution_count": 324,
   "metadata": {},
   "outputs": [
    {
     "name": "stdout",
     "output_type": "stream",
     "text": [
      "                            OLS Regression Results                            \n",
      "==============================================================================\n",
      "Dep. Variable:                      y   R-squared:                       0.975\n",
      "Model:                            OLS   Adj. R-squared:                  0.963\n",
      "Method:                 Least Squares   F-statistic:                     80.79\n",
      "Date:                Wed, 08 Dec 2021   Prob (F-statistic):           2.52e-30\n",
      "Time:                        20:56:44   Log-Likelihood:                -921.41\n",
      "No. Observations:                  71   AIC:                             1891.\n",
      "Df Residuals:                      47   BIC:                             1945.\n",
      "Df Model:                          23                                         \n",
      "Covariance Type:            nonrobust                                         \n",
      "==============================================================================\n",
      "                 coef    std err          t      P>|t|      [0.025      0.975]\n",
      "------------------------------------------------------------------------------\n",
      "const       1.004e+06   3.55e+05      2.825      0.007    2.89e+05    1.72e+06\n",
      "x1         -1.958e+04      2e+04     -0.977      0.333   -5.99e+04    2.07e+04\n",
      "x2         -9.321e+04   3.14e+04     -2.965      0.005   -1.56e+05      -3e+04\n",
      "x3          6.474e+05   3.68e+05      1.757      0.085   -9.37e+04    1.39e+06\n",
      "x4         -3.145e+04    4.9e+04     -0.641      0.524    -1.3e+05    6.72e+04\n",
      "x5          2.236e+05   9.79e+04      2.284      0.027    2.67e+04     4.2e+05\n",
      "x6         -1.306e+06    9.6e+04    -13.601      0.000    -1.5e+06   -1.11e+06\n",
      "x7          2.056e+06    8.6e+05      2.390      0.021    3.25e+05    3.79e+06\n",
      "x8         -1.359e+06   1.15e+05    -11.832      0.000   -1.59e+06   -1.13e+06\n",
      "x9          -1.35e+04   1.08e+05     -0.126      0.901    -2.3e+05    2.03e+05\n",
      "x10        -6.937e+05   2.12e+05     -3.278      0.002   -1.12e+06   -2.68e+05\n",
      "x11        -8.301e+05   1.24e+05     -6.676      0.000   -1.08e+06    -5.8e+05\n",
      "x12        -1.229e+06    1.4e+05     -8.766      0.000   -1.51e+06   -9.47e+05\n",
      "x13         1.672e+06   8.12e+05      2.059      0.045    3.86e+04     3.3e+06\n",
      "x14        -4.766e+04   1.16e+05     -0.409      0.684   -2.82e+05    1.87e+05\n",
      "x15         1.848e+06   8.35e+05      2.214      0.032    1.69e+05    3.53e+06\n",
      "x16         9.752e+05   2.85e+05      3.422      0.001    4.02e+05    1.55e+06\n",
      "x17         5.278e+05   7.88e+05      0.670      0.506   -1.06e+06    2.11e+06\n",
      "x18        -7.189e+05   2.84e+05     -2.532      0.015   -1.29e+06   -1.48e+05\n",
      "x19          6.09e+05   8.65e+05      0.704      0.485   -1.13e+06    2.35e+06\n",
      "x20         8.572e+05   7.43e+05      1.154      0.254   -6.38e+05    2.35e+06\n",
      "x21         1.158e+06   7.66e+05      1.512      0.137   -3.83e+05     2.7e+06\n",
      "x22         5.581e+05    1.2e+05      4.637      0.000    3.16e+05       8e+05\n",
      "x23         6175.9229   8.34e+04      0.074      0.941   -1.62e+05    1.74e+05\n",
      "==============================================================================\n",
      "Omnibus:                       21.728   Durbin-Watson:                   1.889\n",
      "Prob(Omnibus):                  0.000   Jarque-Bera (JB):               37.227\n",
      "Skew:                           1.107   Prob(JB):                     8.25e-09\n",
      "Kurtosis:                       5.771   Cond. No.                         183.\n",
      "==============================================================================\n",
      "\n",
      "Notes:\n",
      "[1] Standard Errors assume that the covariance matrix of the errors is correctly specified.\n"
     ]
    }
   ],
   "source": [
    "X_stats=X_train.toarray()\n",
    "Y_stats=Y_train\n",
    "\n",
    "X_stats = sm.add_constant(X_stats)\n",
    "model_ = sm.OLS(Y_stats, X_stats)\n",
    "results = model_.fit()\n",
    "print(results.summary())"
   ]
  },
  {
   "cell_type": "code",
   "execution_count": 325,
   "metadata": {},
   "outputs": [
    {
     "data": {
      "text/plain": [
       "array([False,  True, False,  True,  True, False, False, False, False,\n",
       "        True, False, False, False, False,  True, False, False,  True,\n",
       "       False,  True,  True,  True, False,  True])"
      ]
     },
     "execution_count": 325,
     "metadata": {},
     "output_type": "execute_result"
    }
   ],
   "source": [
    "results.pvalues>0.05"
   ]
  },
  {
   "cell_type": "markdown",
   "metadata": {},
   "source": [
    "The level of statistical significance is often expressed as a p-value between 0 and 1. The smaller the p-value, the stronger the evidence that you should reject the null hypothesis. A p-value less than 0.05 (typically ≤ 0.05) is statistically significant\n",
    "\n",
    "X1,X3,X4,X9,X14,X18,X23 are not statistically significants"
   ]
  },
  {
   "cell_type": "markdown",
   "metadata": {},
   "source": [
    "***Let's test the performance in cross validation***"
   ]
  },
  {
   "cell_type": "code",
   "execution_count": 326,
   "metadata": {},
   "outputs": [
    {
     "name": "stdout",
     "output_type": "stream",
     "text": [
      "[0.92708575 0.63825796 0.56778573]\n",
      "0.711043144637944\n"
     ]
    }
   ],
   "source": [
    "scores=cross_val_score(regressor_base,X_train,Y_train,cv=3,scoring=\"r2\")\n",
    "print(scores)\n",
    "print(scores.mean())\n"
   ]
  },
  {
   "cell_type": "markdown",
   "metadata": {},
   "source": [
    "### Linear Regressor Ridge ### "
   ]
  },
  {
   "cell_type": "markdown",
   "metadata": {},
   "source": [
    "Linear Regressor Ridge without hyperparameter optimization alpha=1"
   ]
  },
  {
   "cell_type": "code",
   "execution_count": 327,
   "metadata": {},
   "outputs": [
    {
     "data": {
      "text/plain": [
       "Ridge()"
      ]
     },
     "execution_count": 327,
     "metadata": {},
     "output_type": "execute_result"
    }
   ],
   "source": [
    "ridge_model=Ridge()\n",
    "\n",
    "ridge_model.fit(X_train,Y_train)\n",
    "\n"
   ]
  },
  {
   "cell_type": "markdown",
   "metadata": {},
   "source": [
    "***Performance Assessment in train dataset***"
   ]
  },
  {
   "cell_type": "code",
   "execution_count": 328,
   "metadata": {},
   "outputs": [
    {
     "name": "stdout",
     "output_type": "stream",
     "text": [
      "Ridge_Score on training\n",
      "Ridge Linear Regression R_2 Score :  0.9155899493277454\n",
      "Ridge Linear Regression mean squared error :  37499103313.43912\n",
      "Ridge Linear Regression mean absolute error :  151854.5270339756\n"
     ]
    }
   ],
   "source": [
    "print(\"Ridge_Score on training\")\n",
    "ridge_b_train_predict= ridge_model.predict(X_train)\n",
    "print(\"Ridge Linear Regression R_2 Score : \", r2_score(Y_train, ridge_b_train_predict))\n",
    "print(\"Ridge Linear Regression mean squared error : \", mean_squared_error(Y_train, ridge_b_train_predict))\n",
    "print(\"Ridge Linear Regression mean absolute error : \", mean_absolute_error(Y_train, ridge_b_train_predict))"
   ]
  },
  {
   "cell_type": "markdown",
   "metadata": {},
   "source": [
    "***Performance Assessment in test dataset***"
   ]
  },
  {
   "cell_type": "code",
   "execution_count": 329,
   "metadata": {},
   "outputs": [
    {
     "name": "stdout",
     "output_type": "stream",
     "text": [
      "Ridge_Score on test\n",
      "Ridge Linear Regression R_2 Score :  0.9111081157448705\n",
      "Ridge Linear Regression mean squared error :  35941110287.354706\n",
      "Ridge Linear Regression mean absolute error :  157662.96156880952\n"
     ]
    }
   ],
   "source": [
    "print(\"Ridge_Score on test\")\n",
    "ridge_b_test_predict= ridge_model.predict(X_test)\n",
    "print(\"Ridge Linear Regression R_2 Score : \", r2_score(Y_test, ridge_b_test_predict))\n",
    "print(\"Ridge Linear Regression mean squared error : \", mean_squared_error(Y_test, ridge_b_test_predict))\n",
    "print(\"Ridge Linear Regression mean absolute error : \", mean_absolute_error(Y_test, ridge_b_test_predict))"
   ]
  },
  {
   "cell_type": "markdown",
   "metadata": {},
   "source": [
    "There is not overfitting, let's do a cross validation"
   ]
  },
  {
   "cell_type": "code",
   "execution_count": 330,
   "metadata": {},
   "outputs": [
    {
     "name": "stdout",
     "output_type": "stream",
     "text": [
      "[0.75778852 0.7248498  0.80365393]\n",
      "0.7620974158509703\n"
     ]
    }
   ],
   "source": [
    "scores=cross_val_score(ridge_model,X_train,Y_train,cv=3,scoring=\"r2\")\n",
    "print(scores)\n",
    "print(scores.mean())\n"
   ]
  },
  {
   "cell_type": "markdown",
   "metadata": {},
   "source": [
    "***Let's try to find the best alpha and let's perform a cross validation with 3 folds***"
   ]
  },
  {
   "cell_type": "code",
   "execution_count": 331,
   "metadata": {},
   "outputs": [
    {
     "name": "stdout",
     "output_type": "stream",
     "text": [
      "[0.0, 0.1, 0.2, 0.3, 0.4, 0.5, 0.6, 0.7, 0.8, 0.9, 1.0]\n"
     ]
    }
   ],
   "source": [
    "candidate_alpha=[]\n",
    "\n",
    "for i in range(0,11,1):\n",
    "    c=i/10\n",
    "    candidate_alpha.append(c)\n",
    "\n",
    "print(candidate_alpha)"
   ]
  },
  {
   "cell_type": "code",
   "execution_count": 332,
   "metadata": {},
   "outputs": [],
   "source": [
    "params={'alpha':candidate_alpha}"
   ]
  },
  {
   "cell_type": "code",
   "execution_count": 333,
   "metadata": {},
   "outputs": [
    {
     "name": "stdout",
     "output_type": "stream",
     "text": [
      "Fitting 3 folds for each of 11 candidates, totalling 33 fits\n",
      "...Done.\n",
      "Best hyperparameters :  {'alpha': 0.2}\n",
      "Best R2 score :  0.8427559854423592\n",
      "Best estimator :  Ridge(alpha=0.2)\n"
     ]
    }
   ],
   "source": [
    "gridsearch = GridSearchCV(ridge_model, param_grid = params, cv = 3,verbose=1) \n",
    "gridsearch.fit(X_train, Y_train)\n",
    "print(\"...Done.\")\n",
    "print(\"Best hyperparameters : \", gridsearch.best_params_)\n",
    "print(\"Best R2 score : \", gridsearch.best_score_)\n",
    "print(\"Best estimator : \", gridsearch.best_estimator_)"
   ]
  },
  {
   "cell_type": "code",
   "execution_count": 334,
   "metadata": {},
   "outputs": [
    {
     "data": {
      "text/plain": [
       "{'mean_fit_time': array([0.00266433, 0.00532985, 0.00532897, 0.00532969, 0.00532993,\n",
       "        0.00266616, 0.00531983, 0.00532866, 0.00799449, 0.00533017,\n",
       "        0.00266417]),\n",
       " 'std_fit_time': array([3.76792826e-03, 3.76879618e-03, 3.76815305e-03, 3.76865895e-03,\n",
       "        3.76882743e-03, 3.77051326e-03, 3.76171924e-03, 3.76803990e-03,\n",
       "        5.15900687e-06, 3.76899613e-03, 3.76770347e-03]),\n",
       " 'mean_score_time': array([0.00533001, 0.        , 0.        , 0.        , 0.        ,\n",
       "        0.00266488, 0.        , 0.        , 0.        , 0.        ,\n",
       "        0.0026776 ]),\n",
       " 'std_score_time': array([0.00376888, 0.        , 0.        , 0.        , 0.        ,\n",
       "        0.00376871, 0.        , 0.        , 0.        , 0.        ,\n",
       "        0.0037867 ]),\n",
       " 'param_alpha': masked_array(data=[0.0, 0.1, 0.2, 0.3, 0.4, 0.5, 0.6, 0.7, 0.8, 0.9, 1.0],\n",
       "              mask=[False, False, False, False, False, False, False, False,\n",
       "                    False, False, False],\n",
       "        fill_value='?',\n",
       "             dtype=object),\n",
       " 'params': [{'alpha': 0.0},\n",
       "  {'alpha': 0.1},\n",
       "  {'alpha': 0.2},\n",
       "  {'alpha': 0.3},\n",
       "  {'alpha': 0.4},\n",
       "  {'alpha': 0.5},\n",
       "  {'alpha': 0.6},\n",
       "  {'alpha': 0.7},\n",
       "  {'alpha': 0.8},\n",
       "  {'alpha': 0.9},\n",
       "  {'alpha': 1.0}],\n",
       " 'split0_test_score': array([0.9270915 , 0.91305271, 0.89652741, 0.87839501, 0.85977849,\n",
       "        0.84146174, 0.82347197, 0.80600267, 0.78915496, 0.77337914,\n",
       "        0.75778852]),\n",
       " 'split1_test_score': array([0.62815867, 0.71481555, 0.74375881, 0.75450847, 0.75767811,\n",
       "        0.75535802, 0.75080632, 0.74562991, 0.73866267, 0.73122651,\n",
       "        0.7248498 ]),\n",
       " 'split2_test_score': array([0.5598149 , 0.85408698, 0.88798174, 0.88993351, 0.88251932,\n",
       "        0.87141056, 0.858616  , 0.84507876, 0.83123228, 0.8173685 ,\n",
       "        0.80365393]),\n",
       " 'mean_test_score': array([0.70502169, 0.82731841, 0.84275599, 0.84094566, 0.83332531,\n",
       "        0.82274344, 0.81096477, 0.79890378, 0.78634997, 0.77399138,\n",
       "        0.76209742]),\n",
       " 'std_test_score': array([0.15948661, 0.08311402, 0.07008846, 0.06130158, 0.05429033,\n",
       "        0.04919234, 0.04489287, 0.04090896, 0.03784339, 0.03516999,\n",
       "        0.03231561]),\n",
       " 'rank_test_score': array([11,  4,  1,  2,  3,  5,  6,  7,  8,  9, 10])}"
      ]
     },
     "execution_count": 334,
     "metadata": {},
     "output_type": "execute_result"
    }
   ],
   "source": [
    "gridsearch.cv_results_"
   ]
  },
  {
   "cell_type": "markdown",
   "metadata": {},
   "source": [
    "***Check the performance of the best estimator in test and train dataframe***"
   ]
  },
  {
   "cell_type": "code",
   "execution_count": 335,
   "metadata": {},
   "outputs": [
    {
     "name": "stdout",
     "output_type": "stream",
     "text": [
      "Ridge Best Estimator Score on training\n",
      "Ridge Best Estimator Linear Regression R_2 Score :  0.9662829233851018\n",
      "Ridge Best Estimator Linear Regression mean squared error :  14978786641.396996\n",
      "Ridge Best Estimator Linear Regression mean absolute error :  89016.52285102117\n"
     ]
    }
   ],
   "source": [
    "print(\"Ridge Best Estimator Score on training\")\n",
    "ridge_b_train_predict= gridsearch.best_estimator_.predict(X_train)\n",
    "print(\"Ridge Best Estimator Linear Regression R_2 Score : \", r2_score(Y_train, ridge_b_train_predict))\n",
    "print(\"Ridge Best Estimator Linear Regression mean squared error : \", mean_squared_error(Y_train, ridge_b_train_predict))\n",
    "print(\"Ridge Best Estimator Linear Regression mean absolute error : \", mean_absolute_error(Y_train, ridge_b_train_predict))"
   ]
  },
  {
   "cell_type": "code",
   "execution_count": 336,
   "metadata": {},
   "outputs": [
    {
     "name": "stdout",
     "output_type": "stream",
     "text": [
      "Ridge Best Estimator Score on test\n",
      "Ridge Best Estimator Linear Regression R_2 Score :  0.9617792918800572\n",
      "Ridge Best Estimator Linear Regression mean squared error :  15453544463.710587\n",
      "Ridge Best Estimator Linear Regression mean absolute error :  86508.3625591577\n"
     ]
    }
   ],
   "source": [
    "print(\"Ridge Best Estimator Score on test\")\n",
    "ridge_b_test_predict= gridsearch.best_estimator_.predict(X_test)\n",
    "print(\"Ridge Best Estimator Linear Regression R_2 Score : \", r2_score(Y_test, ridge_b_test_predict))\n",
    "print(\"Ridge Best Estimator Linear Regression mean squared error : \", mean_squared_error(Y_test, ridge_b_test_predict))\n",
    "print(\"Ridge Best Estimator Linear Regression mean absolute error : \", mean_absolute_error(Y_test, ridge_b_test_predict))"
   ]
  },
  {
   "cell_type": "markdown",
   "metadata": {},
   "source": [
    "### Linear Regressor Lasso ### "
   ]
  },
  {
   "cell_type": "markdown",
   "metadata": {},
   "source": [
    "Linear Regressor Lasso without hyperparameter optimization max_iter=100000"
   ]
  },
  {
   "cell_type": "code",
   "execution_count": 349,
   "metadata": {},
   "outputs": [
    {
     "data": {
      "text/plain": [
       "Lasso(max_iter=10000000)"
      ]
     },
     "execution_count": 349,
     "metadata": {},
     "output_type": "execute_result"
    }
   ],
   "source": [
    "lasso_model=Lasso(max_iter=10000000)\n",
    "\n",
    "lasso_model.fit(X_train,Y_train)\n"
   ]
  },
  {
   "cell_type": "code",
   "execution_count": 350,
   "metadata": {},
   "outputs": [
    {
     "name": "stdout",
     "output_type": "stream",
     "text": [
      "[0.92712777 0.63816597 0.56814486]\n",
      "0.7111462016408759\n"
     ]
    }
   ],
   "source": [
    "scores=cross_val_score(lasso_model,X_train,Y_train,cv=3,scoring=\"r2\")\n",
    "print(scores)\n",
    "print(scores.mean())"
   ]
  },
  {
   "cell_type": "markdown",
   "metadata": {},
   "source": [
    "***Performance Assessment in train dataset***"
   ]
  },
  {
   "cell_type": "code",
   "execution_count": 351,
   "metadata": {},
   "outputs": [
    {
     "name": "stdout",
     "output_type": "stream",
     "text": [
      "Lasso_Score on training\n",
      "Lasso Linear Regression R_2 Score :  0.9753299350148571\n",
      "Lasso Linear Regression mean squared error :  10959658337.596645\n",
      "Lasso Linear Regression mean absolute error :  77178.016526235\n"
     ]
    }
   ],
   "source": [
    "print(\"Lasso_Score on training\")\n",
    "lasso_b_train_predict= lasso_model.predict(X_train)\n",
    "print(\"Lasso Linear Regression R_2 Score : \", r2_score(Y_train, lasso_b_train_predict))\n",
    "print(\"Lasso Linear Regression mean squared error : \", mean_squared_error(Y_train, lasso_b_train_predict))\n",
    "print(\"Lasso Linear Regression mean absolute error : \", mean_absolute_error(Y_train, lasso_b_train_predict))"
   ]
  },
  {
   "cell_type": "markdown",
   "metadata": {},
   "source": [
    "***Performance Assessment in test dataset***"
   ]
  },
  {
   "cell_type": "code",
   "execution_count": 352,
   "metadata": {},
   "outputs": [
    {
     "name": "stdout",
     "output_type": "stream",
     "text": [
      "Lasso_Score on test\n",
      "Lasso Linear Regression R_2 Score :  0.9698247612156091\n",
      "Lasso Linear Regression mean squared error :  12200569199.144577\n",
      "Lasso Linear Regression mean absolute error :  82066.57141796144\n"
     ]
    }
   ],
   "source": [
    "print(\"Lasso_Score on test\")\n",
    "lasso_b_test_predict= lasso_model.predict(X_test)\n",
    "print(\"Lasso Linear Regression R_2 Score : \", r2_score(Y_test, lasso_b_test_predict))\n",
    "print(\"Lasso Linear Regression mean squared error : \", mean_squared_error(Y_test, lasso_b_test_predict))\n",
    "print(\"Lasso Linear Regression mean absolute error : \", mean_absolute_error(Y_test, lasso_b_test_predict))"
   ]
  },
  {
   "cell_type": "markdown",
   "metadata": {},
   "source": [
    "***Let's try to find the best alpha and let's perform a cross validation with 3 folds***"
   ]
  },
  {
   "cell_type": "code",
   "execution_count": 354,
   "metadata": {},
   "outputs": [],
   "source": [
    "candidate_alpha=range(0,10000,10)"
   ]
  },
  {
   "cell_type": "code",
   "execution_count": 355,
   "metadata": {},
   "outputs": [
    {
     "name": "stdout",
     "output_type": "stream",
     "text": [
      "Fitting 3 folds for each of 1000 candidates, totalling 3000 fits\n"
     ]
    },
    {
     "name": "stderr",
     "output_type": "stream",
     "text": [
      "C:\\Users\\saas1\\anaconda3\\lib\\site-packages\\sklearn\\model_selection\\_validation.py:681: UserWarning: With alpha=0, this algorithm does not converge well. You are advised to use the LinearRegression estimator\n",
      "  estimator.fit(X_train, y_train, **fit_params)\n",
      "C:\\Users\\saas1\\anaconda3\\lib\\site-packages\\sklearn\\linear_model\\_coordinate_descent.py:622: ConvergenceWarning: Objective did not converge. You might want to increase the number of iterations. Duality gap: 142025088596.63855, tolerance: 2068218200.8503428\n",
      "  positive,\n",
      "C:\\Users\\saas1\\anaconda3\\lib\\site-packages\\sklearn\\model_selection\\_validation.py:681: UserWarning: With alpha=0, this algorithm does not converge well. You are advised to use the LinearRegression estimator\n",
      "  estimator.fit(X_train, y_train, **fit_params)\n",
      "C:\\Users\\saas1\\anaconda3\\lib\\site-packages\\sklearn\\linear_model\\_coordinate_descent.py:622: ConvergenceWarning: Objective did not converge. You might want to increase the number of iterations. Duality gap: 203023878981.839, tolerance: 2055253264.8289797\n",
      "  positive,\n",
      "C:\\Users\\saas1\\anaconda3\\lib\\site-packages\\sklearn\\model_selection\\_validation.py:681: UserWarning: With alpha=0, this algorithm does not converge well. You are advised to use the LinearRegression estimator\n",
      "  estimator.fit(X_train, y_train, **fit_params)\n",
      "C:\\Users\\saas1\\anaconda3\\lib\\site-packages\\sklearn\\linear_model\\_coordinate_descent.py:622: ConvergenceWarning: Objective did not converge. You might want to increase the number of iterations. Duality gap: 281329948239.47675, tolerance: 2177031137.3383374\n",
      "  positive,\n"
     ]
    },
    {
     "name": "stdout",
     "output_type": "stream",
     "text": [
      "...Done.\n",
      "Best hyperparameters :  {'alpha': 2010}\n",
      "Best R2 score :  0.8120801031916803\n",
      "Best estimator :  Lasso(alpha=2010, max_iter=10000000)\n"
     ]
    }
   ],
   "source": [
    "params={'alpha':candidate_alpha}\n",
    "\n",
    "gridsearch = GridSearchCV(lasso_model, param_grid = params, cv = 3,verbose=1) \n",
    "gridsearch.fit(X_train, Y_train)\n",
    "print(\"...Done.\")\n",
    "print(\"Best hyperparameters : \", gridsearch.best_params_)\n",
    "print(\"Best R2 score : \", gridsearch.best_score_)\n",
    "print(\"Best estimator : \", gridsearch.best_estimator_)"
   ]
  },
  {
   "cell_type": "markdown",
   "metadata": {},
   "source": [
    "***Performance Assessment in train dataset***"
   ]
  },
  {
   "cell_type": "code",
   "execution_count": 357,
   "metadata": {},
   "outputs": [
    {
     "name": "stdout",
     "output_type": "stream",
     "text": [
      "Lasso Best Estimator Score on training\n",
      "Lasso Best Estimator Linear Regression R_2 Score :  0.9689740010027101\n",
      "Lasso Best Estimator Linear Regression mean squared error :  13783277376.759735\n",
      "Lasso Best Estimator Linear Regression mean absolute error :  85744.2595832318\n"
     ]
    }
   ],
   "source": [
    "print(\"Lasso Best Estimator Score on training\")\n",
    "lasso_b_train_predict= gridsearch.best_estimator_.predict(X_train)\n",
    "print(\"Lasso Best Estimator Linear Regression R_2 Score : \", r2_score(Y_train, lasso_b_train_predict))\n",
    "print(\"Lasso Best Estimator Linear Regression mean squared error : \", mean_squared_error(Y_train, lasso_b_train_predict))\n",
    "print(\"Lasso Best Estimator Linear Regression mean absolute error : \", mean_absolute_error(Y_train, lasso_b_train_predict))"
   ]
  },
  {
   "cell_type": "markdown",
   "metadata": {},
   "source": [
    "***Performance Assessment in test dataset***"
   ]
  },
  {
   "cell_type": "code",
   "execution_count": 358,
   "metadata": {},
   "outputs": [
    {
     "name": "stdout",
     "output_type": "stream",
     "text": [
      "Ridge Best Estimator Score on test\n",
      "Ridge Best Estimator Linear Regression R_2 Score :  0.9660204960655503\n",
      "Ridge Best Estimator Linear Regression mean squared error :  13738724391.447308\n",
      "Ridge Best Estimator Linear Regression mean absolute error :  82100.23126035774\n"
     ]
    }
   ],
   "source": [
    "print(\"Lasso Best Estimator Score on test\")\n",
    "lasso_b_train_predict= gridsearch.best_estimator_.predict(X_test)\n",
    "print(\"Lasso Best Estimator Linear Regression R_2 Score : \", r2_score(Y_test, lasso_b_train_predict))\n",
    "print(\"Lasso Best Estimator Linear Regression mean squared error : \", mean_squared_error(Y_test, lasso_b_train_predict))\n",
    "print(\"Lasso Best Estimator Linear Regression mean absolute error : \", mean_absolute_error(Y_test, lasso_b_train_predict))"
   ]
  }
 ],
 "metadata": {
  "interpreter": {
   "hash": "8cb6cc137b3197e0b7ce4f00b228307119c3d08b3d424b35089c104a94505f33"
  },
  "kernelspec": {
   "display_name": "Python 3.7.11 64-bit ('base': conda)",
   "language": "python",
   "name": "python3"
  },
  "language_info": {
   "codemirror_mode": {
    "name": "ipython",
    "version": 3
   },
   "file_extension": ".py",
   "mimetype": "text/x-python",
   "name": "python",
   "nbconvert_exporter": "python",
   "pygments_lexer": "ipython3",
   "version": "3.7.11"
  },
  "orig_nbformat": 4
 },
 "nbformat": 4,
 "nbformat_minor": 2
}
